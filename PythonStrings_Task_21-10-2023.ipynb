{
 "cells": [
  {
   "cell_type": "markdown",
   "id": "b77c434d",
   "metadata": {},
   "source": [
    "# Python String methods (Task_21-10-2023)"
   ]
  },
  {
   "cell_type": "markdown",
   "id": "108c014d",
   "metadata": {},
   "source": [
    "# string():"
   ]
  },
  {
   "cell_type": "markdown",
   "id": "1c2e0531",
   "metadata": {},
   "source": [
    "* In Python, str() is a built-in function that is used to convert other data types into strings. Strings are immutable."
   ]
  },
  {
   "cell_type": "markdown",
   "id": "3035a095",
   "metadata": {},
   "source": [
    "## 1. capitalize( ):"
   ]
  },
  {
   "cell_type": "markdown",
   "id": "a30cb032",
   "metadata": {},
   "source": [
    "The capitalize() method is a built-in string method in Python used to convert the first character of a string to uppercase while making all other characters in the string lowercase. Here are the parameters, syntax, and an example of how to use capitalize():\n",
    "\n",
    "#### Parameters:\n",
    "The capitalize() method takes no additional parameters.\n",
    "\n",
    "#### Syntax:\n",
    "\n",
    "* string.capitalize()\n",
    "\n",
    "\n",
    "#### Return value:\n",
    "The capitalize() method returns a new string with the first character converted to uppercase and all other characters in lowercase."
   ]
  },
  {
   "cell_type": "code",
   "execution_count": 88,
   "id": "3ab541fa",
   "metadata": {},
   "outputs": [
    {
     "name": "stdout",
     "output_type": "stream",
     "text": [
      "Help on method_descriptor:\n",
      "\n",
      "capitalize(self, /)\n",
      "    Return a capitalized version of the string.\n",
      "    \n",
      "    More specifically, make the first character have upper case and the rest lower\n",
      "    case.\n",
      "\n"
     ]
    }
   ],
   "source": [
    "help(str.capitalize)"
   ]
  },
  {
   "cell_type": "code",
   "execution_count": 1,
   "id": "d1f6e572",
   "metadata": {},
   "outputs": [
    {
     "data": {
      "text/plain": [
       "'hello world'"
      ]
     },
     "execution_count": 1,
     "metadata": {},
     "output_type": "execute_result"
    }
   ],
   "source": [
    "a = 'hello world'\n",
    "a"
   ]
  },
  {
   "cell_type": "code",
   "execution_count": 2,
   "id": "012edda3",
   "metadata": {},
   "outputs": [
    {
     "data": {
      "text/plain": [
       "'Hello world'"
      ]
     },
     "execution_count": 2,
     "metadata": {},
     "output_type": "execute_result"
    }
   ],
   "source": [
    "a.capitalize()"
   ]
  },
  {
   "cell_type": "markdown",
   "id": "84bfa78b",
   "metadata": {},
   "source": [
    "## 2. casefold( )"
   ]
  },
  {
   "cell_type": "markdown",
   "id": "aea16269",
   "metadata": {},
   "source": [
    "The casefold() method is a built-in string method in Python that performs a case-folding operation on a string. It's similar to lower(), but it goes a step further and converts the string to a form that is suitable for caseless, case-insensitive comparisons. Here are the parameters, syntax, and an example of how to use casefold():\n",
    "\n",
    "#### Parameters:\n",
    "The casefold() method does not take any additional parameters.\n",
    "\n",
    "#### Syntax:\n",
    "* string.casefold()\n",
    "\n",
    "#### Return value:\n",
    "The casefold() method returns a new string with all characters converted to lowercase and with any special case mappings for non-ASCII characters.\n"
   ]
  },
  {
   "cell_type": "code",
   "execution_count": 89,
   "id": "1e2a4e2f",
   "metadata": {},
   "outputs": [
    {
     "name": "stdout",
     "output_type": "stream",
     "text": [
      "Help on method_descriptor:\n",
      "\n",
      "casefold(self, /)\n",
      "    Return a version of the string suitable for caseless comparisons.\n",
      "\n"
     ]
    }
   ],
   "source": [
    "help(str.casefold)"
   ]
  },
  {
   "cell_type": "code",
   "execution_count": 4,
   "id": "4bcdb0ee",
   "metadata": {},
   "outputs": [
    {
     "data": {
      "text/plain": [
       "'Hello world'"
      ]
     },
     "execution_count": 4,
     "metadata": {},
     "output_type": "execute_result"
    }
   ],
   "source": [
    "a = 'Hello world'\n",
    "a"
   ]
  },
  {
   "cell_type": "code",
   "execution_count": 5,
   "id": "ea89a21e",
   "metadata": {},
   "outputs": [
    {
     "data": {
      "text/plain": [
       "'hello world'"
      ]
     },
     "execution_count": 5,
     "metadata": {},
     "output_type": "execute_result"
    }
   ],
   "source": [
    "a.casefold()"
   ]
  },
  {
   "cell_type": "markdown",
   "id": "7097afd9",
   "metadata": {},
   "source": [
    "## 3. center( )"
   ]
  },
  {
   "cell_type": "markdown",
   "id": "b4e598f5",
   "metadata": {},
   "source": [
    "The center() method is a built-in string method in Python used to center-align a string within a specified width by adding padding characters on both sides. Here are the parameters, syntax, and an example of how to use center():\n",
    "\n",
    "#### Parameter:\n",
    "\n",
    "* width (required): An integer that represents the total width of the resulting centered string. This width includes the original string and any padding characters.\n",
    "\n",
    "* fillchar (optional): A character used for padding. By default, it is a space.\n",
    "\n",
    "#### Syntax:\n",
    "\n",
    "string.center(width, fillchar)\n",
    "\n",
    "#### Return Value:\n",
    "The center() method returns a new string that is centered within the specified width, using the given padding character.\n"
   ]
  },
  {
   "cell_type": "code",
   "execution_count": 90,
   "id": "7078943c",
   "metadata": {},
   "outputs": [
    {
     "name": "stdout",
     "output_type": "stream",
     "text": [
      "Help on method_descriptor:\n",
      "\n",
      "center(self, width, fillchar=' ', /)\n",
      "    Return a centered string of length width.\n",
      "    \n",
      "    Padding is done using the specified fill character (default is a space).\n",
      "\n"
     ]
    }
   ],
   "source": [
    "help(str.center)"
   ]
  },
  {
   "cell_type": "code",
   "execution_count": 7,
   "id": "7f60ee9e",
   "metadata": {},
   "outputs": [
    {
     "data": {
      "text/plain": [
       "'                   Hello world                    '"
      ]
     },
     "execution_count": 7,
     "metadata": {},
     "output_type": "execute_result"
    }
   ],
   "source": [
    "a.center(50)"
   ]
  },
  {
   "cell_type": "code",
   "execution_count": 8,
   "id": "c724e91e",
   "metadata": {},
   "outputs": [
    {
     "data": {
      "text/plain": [
       "'**************Hello world***************'"
      ]
     },
     "execution_count": 8,
     "metadata": {},
     "output_type": "execute_result"
    }
   ],
   "source": [
    "a.center(40,'*')"
   ]
  },
  {
   "cell_type": "markdown",
   "id": "ce22acb2",
   "metadata": {},
   "source": [
    "## 4. Count( )\n",
    "\n"
   ]
  },
  {
   "cell_type": "markdown",
   "id": "04e500ab",
   "metadata": {},
   "source": [
    "The count() method in Python is used to count the number of occurrences of a specified element or substring within a given string or list.\n",
    "\n",
    "#### Parameter:\n",
    "\n",
    "For strings:\n",
    "\n",
    "* sub (required): The substring you want to count within the string.\n",
    "\n",
    "* start (optional): The starting index within the string for the search.\n",
    "\n",
    "* end (optional): The ending index within the string for the search.\n",
    "\n",
    "For lists:\n",
    "\n",
    "* sub (required): The element you want to count within the list.\n"
   ]
  },
  {
   "cell_type": "code",
   "execution_count": 91,
   "id": "853d45ec",
   "metadata": {},
   "outputs": [
    {
     "name": "stdout",
     "output_type": "stream",
     "text": [
      "Help on method_descriptor:\n",
      "\n",
      "count(...)\n",
      "    S.count(sub[, start[, end]]) -> int\n",
      "    \n",
      "    Return the number of non-overlapping occurrences of substring sub in\n",
      "    string S[start:end].  Optional arguments start and end are\n",
      "    interpreted as in slice notation.\n",
      "\n"
     ]
    }
   ],
   "source": [
    "help(str.count)"
   ]
  },
  {
   "cell_type": "markdown",
   "id": "c9706da7",
   "metadata": {},
   "source": [
    "#### Syntax: \n",
    "* string. Count(substring, start= …., end= ….)\n"
   ]
  },
  {
   "cell_type": "markdown",
   "id": "5cbdb27d",
   "metadata": {},
   "source": [
    "#### Return Value:\n",
    "The count() method returns an integer representing the number of occurrences of the specified substring or element within the string or list."
   ]
  },
  {
   "cell_type": "code",
   "execution_count": 9,
   "id": "aff6f18a",
   "metadata": {},
   "outputs": [
    {
     "data": {
      "text/plain": [
       "'The center() method is a built-in string method in Python used to center-align a string within a specified width by adding padding characters on both sides.'"
      ]
     },
     "execution_count": 9,
     "metadata": {},
     "output_type": "execute_result"
    }
   ],
   "source": [
    "a = 'The center() method is a built-in string method in Python used to center-align a string within a specified width by adding padding characters on both sides.'\n",
    "a"
   ]
  },
  {
   "cell_type": "code",
   "execution_count": 11,
   "id": "c034381c",
   "metadata": {},
   "outputs": [
    {
     "data": {
      "text/plain": [
       "1"
      ]
     },
     "execution_count": 11,
     "metadata": {},
     "output_type": "execute_result"
    }
   ],
   "source": [
    "a.count(a)"
   ]
  },
  {
   "cell_type": "markdown",
   "id": "53501529",
   "metadata": {},
   "source": [
    "## 5. encode( )"
   ]
  },
  {
   "cell_type": "markdown",
   "id": "aad0b6bb",
   "metadata": {},
   "source": [
    "The encode() method is a built-in string method in Python used to encode a string into a specified encoding format. It converts a Unicode string into a bytes object with the specified encoding.\n",
    "\n",
    "#### Parameter:\n",
    "\n",
    "* encoding (required): A string that specifies the encoding format to use for encoding the string. Common encoding formats include \"utf-8\", \"ascii\", \"iso-8859-1\", etc.\n",
    "\n",
    "* errors (optional): A string that specifies how to handle errors during encoding. The default is \"strict,\" which raises an exception on encoding errors. Other values for this parameter include \"ignore,\" \"replace,\" and more."
   ]
  },
  {
   "cell_type": "code",
   "execution_count": 92,
   "id": "aeebf7f7",
   "metadata": {},
   "outputs": [
    {
     "name": "stdout",
     "output_type": "stream",
     "text": [
      "Help on method_descriptor:\n",
      "\n",
      "encode(self, /, encoding='utf-8', errors='strict')\n",
      "    Encode the string using the codec registered for encoding.\n",
      "    \n",
      "    encoding\n",
      "      The encoding in which to encode the string.\n",
      "    errors\n",
      "      The error handling scheme to use for encoding errors.\n",
      "      The default is 'strict' meaning that encoding errors raise a\n",
      "      UnicodeEncodeError.  Other possible values are 'ignore', 'replace' and\n",
      "      'xmlcharrefreplace' as well as any other name registered with\n",
      "      codecs.register_error that can handle UnicodeEncodeErrors.\n",
      "\n"
     ]
    }
   ],
   "source": [
    "help(str.encode)"
   ]
  },
  {
   "cell_type": "markdown",
   "id": "5395cf26",
   "metadata": {},
   "source": [
    "#### Syntax:\n",
    "* string.encode(encoding, errors)\n"
   ]
  },
  {
   "cell_type": "markdown",
   "id": "50af6221",
   "metadata": {},
   "source": [
    "#### Return value: \n",
    "The encode() method returns a bytes object containing the encoded representation of the original string."
   ]
  },
  {
   "cell_type": "code",
   "execution_count": 12,
   "id": "f2713ed3",
   "metadata": {},
   "outputs": [
    {
     "name": "stdout",
     "output_type": "stream",
     "text": [
      "b'Hello, world!'\n"
     ]
    }
   ],
   "source": [
    "text = \"Hello, world!\"\n",
    "x = text.encode()\n",
    "print(x)\n"
   ]
  },
  {
   "cell_type": "markdown",
   "id": "d6ddf9d0",
   "metadata": {},
   "source": [
    "## 6. endswith( )"
   ]
  },
  {
   "cell_type": "markdown",
   "id": "00922c11",
   "metadata": {},
   "source": [
    "The endswith() method is a built-in string method in Python used to check if a string ends with a specified suffix. It returns True if the string ends with the given suffix and False otherwise.\n",
    "\n",
    "#### Parameters and Values:\n",
    "\n",
    "* suffix (required): A string or a tuple of strings. It specifies the suffix or suffixes to be checked for at the end of the string.\n",
    "* start (optional): An integer that specifies the start position for the check within the string.\n",
    "* end (optional): An integer that specifies the end position for the check within the string.\n",
    "\n",
    "#### Syntax:\n",
    "* str.endswith(suffix, start, end)\n",
    "\n",
    "#### Return value:\n",
    " ReturnsTrue if the string ends with the given suffix otherwise return False."
   ]
  },
  {
   "cell_type": "code",
   "execution_count": 93,
   "id": "bd14a48f",
   "metadata": {},
   "outputs": [
    {
     "name": "stdout",
     "output_type": "stream",
     "text": [
      "Help on method_descriptor:\n",
      "\n",
      "endswith(...)\n",
      "    S.endswith(suffix[, start[, end]]) -> bool\n",
      "    \n",
      "    Return True if S ends with the specified suffix, False otherwise.\n",
      "    With optional start, test S beginning at that position.\n",
      "    With optional end, stop comparing S at that position.\n",
      "    suffix can also be a tuple of strings to try.\n",
      "\n"
     ]
    }
   ],
   "source": [
    "help(str.endswith)"
   ]
  },
  {
   "cell_type": "code",
   "execution_count": 13,
   "id": "fb51c8b6",
   "metadata": {},
   "outputs": [
    {
     "data": {
      "text/plain": [
       "True"
      ]
     },
     "execution_count": 13,
     "metadata": {},
     "output_type": "execute_result"
    }
   ],
   "source": [
    "'Hello'.endswith('lo')\n"
   ]
  },
  {
   "cell_type": "code",
   "execution_count": 14,
   "id": "4cf1113a",
   "metadata": {},
   "outputs": [
    {
     "data": {
      "text/plain": [
       "False"
      ]
     },
     "execution_count": 14,
     "metadata": {},
     "output_type": "execute_result"
    }
   ],
   "source": [
    "'World'.endswith('lo')"
   ]
  },
  {
   "cell_type": "markdown",
   "id": "8bc16562",
   "metadata": {},
   "source": [
    "## 7. expandtabs( )"
   ]
  },
  {
   "cell_type": "markdown",
   "id": "f6ab7168",
   "metadata": {},
   "source": [
    "The expandtabs() method is a built-in string method in Python used to replace tab characters ('\\t') in a string with a specified number of spaces. This allows you to control the visual layout of tab-separated data.\n",
    "\n",
    "#### Parameters and Values:\n",
    "\n",
    "* tabsize (optional): An integer that specifies the number of spaces to use for each tab character. By default, it is set to 8.\n",
    "\n",
    "#### Syntax:\n",
    "* string.expandtabs(tabsize)\n",
    "\n",
    "#### Return Value:\n",
    "The expandtabs() method returns a new string with tab characters replaced by spaces according to the specified tabsize.\n"
   ]
  },
  {
   "cell_type": "code",
   "execution_count": 94,
   "id": "661bae18",
   "metadata": {},
   "outputs": [
    {
     "name": "stdout",
     "output_type": "stream",
     "text": [
      "Help on method_descriptor:\n",
      "\n",
      "expandtabs(self, /, tabsize=8)\n",
      "    Return a copy where all tab characters are expanded using spaces.\n",
      "    \n",
      "    If tabsize is not given, a tab size of 8 characters is assumed.\n",
      "\n"
     ]
    }
   ],
   "source": [
    "help(str.expandtabs)"
   ]
  },
  {
   "cell_type": "code",
   "execution_count": 15,
   "id": "3c6e21d8",
   "metadata": {},
   "outputs": [
    {
     "name": "stdout",
     "output_type": "stream",
     "text": [
      "Python  is  awesome\n"
     ]
    }
   ],
   "source": [
    "text = \"Python\\tis\\tawesome\"\n",
    "a = text.expandtabs(4)\n",
    "print(a)\n"
   ]
  },
  {
   "cell_type": "markdown",
   "id": "5317b0fa",
   "metadata": {},
   "source": [
    "## 8. find( )"
   ]
  },
  {
   "cell_type": "markdown",
   "id": "280a276d",
   "metadata": {},
   "source": [
    "The find() method is a built-in string method in Python used to search for a specified substring within a string. It returns the lowest index (position) at which the substring is found. If the substring is not found, it returns -1.\n",
    "\n",
    "#### Parameters and Values:\n",
    "\n",
    "* sub (required): The substring you want to find within the string.\n",
    "* start (optional): An integer specifying the starting index for the search within the string. The default is 0.\n",
    "* end (optional): An integer specifying the ending index for the search within the string. The default is the end of the string.\n",
    "\n",
    "#### Syntax:\n",
    "* str_obj.find(sub, start, end)\n",
    "\n",
    "#### Return value:\n",
    "The find() method returns the lowest index of the first occurrence of the specified substring within the string. If the substring is not found, it returns -1."
   ]
  },
  {
   "cell_type": "code",
   "execution_count": 95,
   "id": "32bda40d",
   "metadata": {},
   "outputs": [
    {
     "name": "stdout",
     "output_type": "stream",
     "text": [
      "Help on method_descriptor:\n",
      "\n",
      "find(...)\n",
      "    S.find(sub[, start[, end]]) -> int\n",
      "    \n",
      "    Return the lowest index in S where substring sub is found,\n",
      "    such that sub is contained within S[start:end].  Optional\n",
      "    arguments start and end are interpreted as in slice notation.\n",
      "    \n",
      "    Return -1 on failure.\n",
      "\n"
     ]
    }
   ],
   "source": [
    "help(str.find)"
   ]
  },
  {
   "cell_type": "code",
   "execution_count": 16,
   "id": "6c58ae43",
   "metadata": {},
   "outputs": [
    {
     "data": {
      "text/plain": [
       "'Python is awesome as the new string'"
      ]
     },
     "execution_count": 16,
     "metadata": {},
     "output_type": "execute_result"
    }
   ],
   "source": [
    "a = 'Python is awesome as the new string'\n",
    "a"
   ]
  },
  {
   "cell_type": "code",
   "execution_count": 22,
   "id": "b39c85b0",
   "metadata": {},
   "outputs": [
    {
     "data": {
      "text/plain": [
       "-1"
      ]
     },
     "execution_count": 22,
     "metadata": {},
     "output_type": "execute_result"
    }
   ],
   "source": [
    "a.find(a,5,50)"
   ]
  },
  {
   "cell_type": "markdown",
   "id": "26e16694",
   "metadata": {},
   "source": [
    "## 9. format( )"
   ]
  },
  {
   "cell_type": "markdown",
   "id": "0f5fb2f7",
   "metadata": {},
   "source": [
    "The format() method is a built-in string method in Python used for string formatting. It allows you to create formatted strings by inserting values into placeholders within a string. These placeholders are typically marked by curly braces {}.\n",
    "\n",
    "#### Parameters and Values:\n",
    "\n",
    "* value : Can be an integer, floating point numeric constant, string, characters or even variables.\n",
    "\n",
    "#### Syntax:\n",
    "* Syntax: { }.format(value)\n",
    "\n",
    "#### Return value:\n",
    "The format() method returns a new string with the placeholders replaced by the values provided as arguments."
   ]
  },
  {
   "cell_type": "code",
   "execution_count": 96,
   "id": "4c7afa0e",
   "metadata": {},
   "outputs": [
    {
     "name": "stdout",
     "output_type": "stream",
     "text": [
      "Help on method_descriptor:\n",
      "\n",
      "format(...)\n",
      "    S.format(*args, **kwargs) -> str\n",
      "    \n",
      "    Return a formatted version of S, using substitutions from args and kwargs.\n",
      "    The substitutions are identified by braces ('{' and '}').\n",
      "\n"
     ]
    }
   ],
   "source": [
    "help(str.format)"
   ]
  },
  {
   "cell_type": "code",
   "execution_count": 23,
   "id": "d597123b",
   "metadata": {},
   "outputs": [
    {
     "name": "stdout",
     "output_type": "stream",
     "text": [
      "My name is Rahul and I am 20 years old.\n"
     ]
    }
   ],
   "source": [
    "name = \"Rahul\"\n",
    "age = 20\n",
    "message = \"My name is {} and I am {} years old.\".format(name, age)\n",
    "print(message)\n"
   ]
  },
  {
   "cell_type": "markdown",
   "id": "598aab8a",
   "metadata": {},
   "source": [
    "## 10. format_map( )"
   ]
  },
  {
   "cell_type": "markdown",
   "id": "43466a72",
   "metadata": {},
   "source": [
    "The format_map() method is a built-in string method in Python used for string formatting. It allows you to create formatted strings by inserting values into placeholders within a string, similar to the format() method. However, format_map() takes a dictionary as its argument to provide the values for the placeholders.\n",
    "\n",
    "#### Parameters and Values:\n",
    "\n",
    "* Here z is a variable in which the input dictionary is stored and string is the key of the input dictionary.\n",
    "* input_dict: Takes a single parameter which is the input dictionary.\n",
    "\n",
    "#### Syntax:\n",
    "string.format_map(z)\n",
    "\n",
    "#### Return value:\n",
    "The format_map() method returns a new string with the placeholders replaced by the values from the provided dictionary."
   ]
  },
  {
   "cell_type": "code",
   "execution_count": 97,
   "id": "e1c66ba2",
   "metadata": {},
   "outputs": [
    {
     "name": "stdout",
     "output_type": "stream",
     "text": [
      "Help on method_descriptor:\n",
      "\n",
      "format_map(...)\n",
      "    S.format_map(mapping) -> str\n",
      "    \n",
      "    Return a formatted version of S, using substitutions from mapping.\n",
      "    The substitutions are identified by braces ('{' and '}').\n",
      "\n"
     ]
    }
   ],
   "source": [
    "help(str.format_map)"
   ]
  },
  {
   "cell_type": "code",
   "execution_count": 24,
   "id": "274e3201",
   "metadata": {},
   "outputs": [
    {
     "name": "stdout",
     "output_type": "stream",
     "text": [
      "my name is Bhargav Reddy\n"
     ]
    }
   ],
   "source": [
    "a = {'x':'Bhargav', 'y':'Reddy'} \n",
    "\n",
    "print(\"my name is {x} {y}\".format_map(a))"
   ]
  },
  {
   "cell_type": "markdown",
   "id": "fe5ea864",
   "metadata": {},
   "source": [
    "## 11. index( )"
   ]
  },
  {
   "cell_type": "markdown",
   "id": "7338f40a",
   "metadata": {},
   "source": [
    "The index() method is a built-in string method in Python used to find the index (position) of the first occurrence of a specified substring within a string. It is similar to the find() method but raises a ValueError if the substring is not found, whereas find() returns -1.\n",
    "\n",
    "#### Parameters and Values:\n",
    "\n",
    "* sub (required): The substring you want to find within the string.\n",
    "* start (optional): An integer specifying the starting index for the search within the string. The default is 0.\n",
    "* end (optional): An integer specifying the ending index for the search within the string. The default is the end of the string.\n",
    "\n",
    "#### Syntax:\n",
    "string_obj.index(substring, start, end)\n",
    "\n",
    "#### Return value:\n",
    "The index() method returns the index of the first occurrence of the specified substring within the string. If the substring is not found, it raises a ValueError."
   ]
  },
  {
   "cell_type": "code",
   "execution_count": 98,
   "id": "4cf00dd2",
   "metadata": {},
   "outputs": [
    {
     "name": "stdout",
     "output_type": "stream",
     "text": [
      "Help on method_descriptor:\n",
      "\n",
      "index(...)\n",
      "    S.index(sub[, start[, end]]) -> int\n",
      "    \n",
      "    Return the lowest index in S where substring sub is found,\n",
      "    such that sub is contained within S[start:end].  Optional\n",
      "    arguments start and end are interpreted as in slice notation.\n",
      "    \n",
      "    Raises ValueError when the substring is not found.\n",
      "\n"
     ]
    }
   ],
   "source": [
    "help(str.index)"
   ]
  },
  {
   "cell_type": "code",
   "execution_count": 28,
   "id": "587e28c6",
   "metadata": {},
   "outputs": [
    {
     "name": "stdout",
     "output_type": "stream",
     "text": [
      "12\n"
     ]
    }
   ],
   "source": [
    "x = 'python is a programming language'\n",
    "\n",
    "print(x.index('programming'))"
   ]
  },
  {
   "cell_type": "markdown",
   "id": "67a322d4",
   "metadata": {},
   "source": [
    "## 12. isalnum( )"
   ]
  },
  {
   "cell_type": "markdown",
   "id": "24e72456",
   "metadata": {},
   "source": [
    "The isalnum() method is a built-in string method in Python used to check whether all characters in a string are alphanumeric. Alphanumeric characters include letters and numbers. It returns True if all characters are alphanumeric and False if the string contains any non-alphanumeric characters.\n",
    "\n",
    "#### Parameters and Values:\n",
    "The isalnum() method does not take any parameters.\n",
    "\n",
    "#### Syntax:\n",
    "* string_name.isalnum()\n",
    "\n",
    "#### Return value:\n",
    "* True: If all the characters are alphanumeric\n",
    "* False: If one or more characters are not alphanumeric"
   ]
  },
  {
   "cell_type": "code",
   "execution_count": 99,
   "id": "1fd69854",
   "metadata": {},
   "outputs": [
    {
     "name": "stdout",
     "output_type": "stream",
     "text": [
      "Help on method_descriptor:\n",
      "\n",
      "isalnum(self, /)\n",
      "    Return True if the string is an alpha-numeric string, False otherwise.\n",
      "    \n",
      "    A string is alpha-numeric if all characters in the string are alpha-numeric and\n",
      "    there is at least one character in the string.\n",
      "\n"
     ]
    }
   ],
   "source": [
    "help(str.isalnum)"
   ]
  },
  {
   "cell_type": "code",
   "execution_count": 30,
   "id": "a9607374",
   "metadata": {},
   "outputs": [
    {
     "name": "stdout",
     "output_type": "stream",
     "text": [
      "True\n",
      "False\n"
     ]
    }
   ],
   "source": [
    "text1 = \"Python123\"\n",
    "text2 = \"Python 123\"\n",
    "x = text1.isalnum()\n",
    "y = text2.isalnum()\n",
    "print(x)  # Output: True (all characters are alphanumeric)\n",
    "print(y)  # Output: False (space is not alphanumeric)\n"
   ]
  },
  {
   "cell_type": "markdown",
   "id": "4c610542",
   "metadata": {},
   "source": [
    "## 13. isalpha( )"
   ]
  },
  {
   "cell_type": "markdown",
   "id": "c99a453c",
   "metadata": {},
   "source": [
    "The isalpha() method is a built-in string method in Python used to check whether all characters in a string are alphabetic. It returns True if all characters in the string are alphabetic (letters) and False if the string contains any non-alphabetic characters, such as numbers or symbols.\n",
    "\n",
    "#### Parameters and Values:\n",
    "The isalpha() method does not take any parameters.\n",
    "\n",
    "#### Syntax:\n",
    "* string.isalpha()\n",
    "\n",
    "#### Return value:\n",
    "The isalpha() method returns a Boolean value, True if all characters in the string are alphabetic, and False otherwise.\n",
    "\n",
    "\n"
   ]
  },
  {
   "cell_type": "code",
   "execution_count": 100,
   "id": "85695100",
   "metadata": {},
   "outputs": [
    {
     "name": "stdout",
     "output_type": "stream",
     "text": [
      "Help on method_descriptor:\n",
      "\n",
      "isalpha(self, /)\n",
      "    Return True if the string is an alphabetic string, False otherwise.\n",
      "    \n",
      "    A string is alphabetic if all characters in the string are alphabetic and there\n",
      "    is at least one character in the string.\n",
      "\n"
     ]
    }
   ],
   "source": [
    "help(str.isalpha)"
   ]
  },
  {
   "cell_type": "code",
   "execution_count": 31,
   "id": "8331f78b",
   "metadata": {},
   "outputs": [
    {
     "name": "stdout",
     "output_type": "stream",
     "text": [
      "True\n"
     ]
    }
   ],
   "source": [
    "x = \"Python\"\n",
    "\n",
    "y = x.isalpha()\n",
    "\n",
    "print(y)"
   ]
  },
  {
   "cell_type": "code",
   "execution_count": 32,
   "id": "a3b5cd42",
   "metadata": {},
   "outputs": [
    {
     "name": "stdout",
     "output_type": "stream",
     "text": [
      "False\n"
     ]
    }
   ],
   "source": [
    "x = \"Python12345\"\n",
    "\n",
    "y = x.isalpha()\n",
    "\n",
    "print(y)"
   ]
  },
  {
   "cell_type": "markdown",
   "id": "b19d5d71",
   "metadata": {},
   "source": [
    "## 14. isascii( )\n"
   ]
  },
  {
   "cell_type": "markdown",
   "id": "46b6dbd0",
   "metadata": {},
   "source": [
    "The isascii() method is used to check if all characters in a given string are ASCII (American Standard Code for Information Interchange) characters. It returns True if all characters are part of the ASCII character set, and False if there is at least one character in the string that is not part of the ASCII character set.\n",
    "\n",
    "#### Parameters and Values:\n",
    "The isascii() method does not take any parameters.\n",
    "\n",
    "#### Syntax:\n",
    "* string.isascii()\n",
    "\n",
    "#### Return value:\n",
    "The isascii() method returns a Boolean value, True if all characters in the string are ASCII characters, and False if there is at least one non-ASCII character.\n"
   ]
  },
  {
   "cell_type": "code",
   "execution_count": 101,
   "id": "e32891cd",
   "metadata": {},
   "outputs": [
    {
     "name": "stdout",
     "output_type": "stream",
     "text": [
      "Help on method_descriptor:\n",
      "\n",
      "isascii(self, /)\n",
      "    Return True if all characters in the string are ASCII, False otherwise.\n",
      "    \n",
      "    ASCII characters have code points in the range U+0000-U+007F.\n",
      "    Empty string is ASCII too.\n",
      "\n"
     ]
    }
   ],
   "source": [
    "help(str.isascii)"
   ]
  },
  {
   "cell_type": "code",
   "execution_count": 33,
   "id": "42175bed",
   "metadata": {},
   "outputs": [
    {
     "name": "stdout",
     "output_type": "stream",
     "text": [
      "True\n"
     ]
    }
   ],
   "source": [
    "text = \"Hello, World!\"\n",
    "x = text1.isascii()\n",
    "print(x)  # Output: True (all characters are ASCII)\n",
    "\n"
   ]
  },
  {
   "cell_type": "markdown",
   "id": "b5967de8",
   "metadata": {},
   "source": [
    "## 15. isdecimal( )"
   ]
  },
  {
   "cell_type": "markdown",
   "id": "4bb30d16",
   "metadata": {},
   "source": [
    "The isdecimal() method is used to check if all characters in a given string are decimal characters. Decimal characters are those that can be used to represent numerical values in base 10 (0-9). It returns True if all characters are decimal, and False if there is at least one non-decimal character in the string.\n",
    "\n",
    "#### Parameters and Values:\n",
    "The isdecimal() method does not take any parameters.\n",
    "\n",
    "#### Syntax:\n",
    "* string.isdecimal()\n",
    "\n",
    "#### Return value:\n",
    "The isdecimal() method returns a Boolean value, True if all characters in the string are decimal characters (0-9), and False if there is at least one non-decimal character."
   ]
  },
  {
   "cell_type": "code",
   "execution_count": 102,
   "id": "1ee121c5",
   "metadata": {},
   "outputs": [
    {
     "name": "stdout",
     "output_type": "stream",
     "text": [
      "Help on method_descriptor:\n",
      "\n",
      "isdecimal(self, /)\n",
      "    Return True if the string is a decimal string, False otherwise.\n",
      "    \n",
      "    A string is a decimal string if all characters in the string are decimal and\n",
      "    there is at least one character in the string.\n",
      "\n"
     ]
    }
   ],
   "source": [
    "help(str.isdecimal)"
   ]
  },
  {
   "cell_type": "code",
   "execution_count": 35,
   "id": "bc5f3276",
   "metadata": {},
   "outputs": [
    {
     "name": "stdout",
     "output_type": "stream",
     "text": [
      "True\n"
     ]
    }
   ],
   "source": [
    "num1 = \"12345\"\n",
    "num2 = \"3.14\"  # Contains a non-decimal character (.)\n",
    "x = num1.isdecimal()\n",
    "y = num2.isdecimal()\n",
    "print(x)  # Output: True (all characters are decimal)\n",
    "\n"
   ]
  },
  {
   "cell_type": "code",
   "execution_count": 36,
   "id": "be676283",
   "metadata": {},
   "outputs": [
    {
     "name": "stdout",
     "output_type": "stream",
     "text": [
      "False\n"
     ]
    }
   ],
   "source": [
    "print(y)  # Output: False (contains a non-decimal character)"
   ]
  },
  {
   "cell_type": "markdown",
   "id": "82e28d46",
   "metadata": {},
   "source": [
    "## 16. isdigit( )"
   ]
  },
  {
   "cell_type": "markdown",
   "id": "f0d60752",
   "metadata": {},
   "source": [
    "The isdigit() method is used to check if all characters in a given string are digits. Digits are numeric characters from any script or language. It returns True if all characters are digits, and False if there is at least one non-digit character in the string.\n",
    "\n",
    "#### Parameters and Values:\n",
    "The isdigit() method does not take any parameters.\n",
    "\n",
    "#### Syntax:\n",
    "* string.isdigit()\n",
    "\n",
    "#### Return Value:\n",
    "The isdigit() method returns a Boolean value, True if all characters in the string are digit characters, and False if there is at least one non-digit character.\n",
    "\n"
   ]
  },
  {
   "cell_type": "code",
   "execution_count": 103,
   "id": "542539e0",
   "metadata": {},
   "outputs": [
    {
     "name": "stdout",
     "output_type": "stream",
     "text": [
      "Help on method_descriptor:\n",
      "\n",
      "isdigit(self, /)\n",
      "    Return True if the string is a digit string, False otherwise.\n",
      "    \n",
      "    A string is a digit string if all characters in the string are digits and there\n",
      "    is at least one character in the string.\n",
      "\n"
     ]
    }
   ],
   "source": [
    "help(str.isdigit)"
   ]
  },
  {
   "cell_type": "code",
   "execution_count": 37,
   "id": "5e1735d7",
   "metadata": {},
   "outputs": [
    {
     "name": "stdout",
     "output_type": "stream",
     "text": [
      "True\n"
     ]
    }
   ],
   "source": [
    "num1 = \"12345\"\n",
    "num2 = \"3.14\"  # Contains non-digit characters (.)\n",
    "x = num1.isdigit()\n",
    "y = num2.isdigit()\n",
    "print(x)  # Output: True (all characters are digits)\n",
    "\n"
   ]
  },
  {
   "cell_type": "code",
   "execution_count": 38,
   "id": "bbf8101d",
   "metadata": {},
   "outputs": [
    {
     "name": "stdout",
     "output_type": "stream",
     "text": [
      "False\n"
     ]
    }
   ],
   "source": [
    "print(y)  # Output: False (contains non-digit characters)"
   ]
  },
  {
   "cell_type": "markdown",
   "id": "1465ce25",
   "metadata": {},
   "source": [
    "## 17. isidentifier( )"
   ]
  },
  {
   "cell_type": "markdown",
   "id": "cf7a3df3",
   "metadata": {},
   "source": [
    "The isidentifier() method is used to check if a given string is a valid Python identifier. A Python identifier is a name used to identify a variable, function, class, module, or other objects. It should start with a letter (a-z, A-Z) or an underscore (_) and may be followed by letters, digits, or underscores. It returns True if the string is a valid Python identifier, and False otherwise.\n",
    "\n",
    "#### Parameters and Values:\n",
    "The isidentifier() method does not take any parameters.\n",
    "\n",
    "#### Syntax:\n",
    "* string.isidentifier()\n",
    "\n",
    "#### Return value:\n",
    "The isidentifier() method returns a Boolean value, True if the string is a valid Python identifier, and False if it is not."
   ]
  },
  {
   "cell_type": "code",
   "execution_count": 104,
   "id": "e7db7805",
   "metadata": {},
   "outputs": [
    {
     "name": "stdout",
     "output_type": "stream",
     "text": [
      "Help on method_descriptor:\n",
      "\n",
      "isidentifier(self, /)\n",
      "    Return True if the string is a valid Python identifier, False otherwise.\n",
      "    \n",
      "    Call keyword.iskeyword(s) to test whether string s is a reserved identifier,\n",
      "    such as \"def\" or \"class\".\n",
      "\n"
     ]
    }
   ],
   "source": [
    "help(str.isidentifier)"
   ]
  },
  {
   "cell_type": "code",
   "execution_count": 39,
   "id": "67ea88cd",
   "metadata": {},
   "outputs": [
    {
     "name": "stdout",
     "output_type": "stream",
     "text": [
      "True\n"
     ]
    }
   ],
   "source": [
    "identifier1 = \"variable_name\"\n",
    "identifier2 = \"123variable\"\n",
    "x = identifier1.isidentifier()\n",
    "y = identifier2.isidentifier()\n",
    "print(x)  # Output: True (valid Python identifier)\n",
    "\n"
   ]
  },
  {
   "cell_type": "code",
   "execution_count": 40,
   "id": "ab11af78",
   "metadata": {},
   "outputs": [
    {
     "name": "stdout",
     "output_type": "stream",
     "text": [
      "False\n"
     ]
    }
   ],
   "source": [
    "print(y)  # Output: False (not a valid Python identifier)"
   ]
  },
  {
   "cell_type": "markdown",
   "id": "a85f2c05",
   "metadata": {},
   "source": [
    "## 18. islower( )"
   ]
  },
  {
   "cell_type": "markdown",
   "id": "28b198b3",
   "metadata": {},
   "source": [
    "The islower() method is used to check if all alphabetic characters in a given string are lowercase letters. It returns True if all alphabetic characters are in lowercase and False if there is at least one uppercase or non-alphabetic character in the string.\n",
    "\n",
    "#### Parameters and Values:\n",
    "The islower() method does not take any parameters.\n",
    "\n",
    "#### Syntax:\n",
    "* string.islower()\n",
    "\n",
    "#### Return Value:\n",
    "The islower() method returns a Boolean value, True if all alphabetic characters in the string are lowercase, and False if there is at least one uppercase or non-alphabetic character."
   ]
  },
  {
   "cell_type": "code",
   "execution_count": 105,
   "id": "1b9dc1fe",
   "metadata": {},
   "outputs": [
    {
     "name": "stdout",
     "output_type": "stream",
     "text": [
      "Help on method_descriptor:\n",
      "\n",
      "islower(self, /)\n",
      "    Return True if the string is a lowercase string, False otherwise.\n",
      "    \n",
      "    A string is lowercase if all cased characters in the string are lowercase and\n",
      "    there is at least one cased character in the string.\n",
      "\n"
     ]
    }
   ],
   "source": [
    "help(str.islower)"
   ]
  },
  {
   "cell_type": "code",
   "execution_count": 43,
   "id": "a82ea9c6",
   "metadata": {},
   "outputs": [
    {
     "name": "stdout",
     "output_type": "stream",
     "text": [
      "True\n"
     ]
    }
   ],
   "source": [
    "x = \"super hero\"\n",
    "\n",
    "y = x.islower()\n",
    "\n",
    "print(y)"
   ]
  },
  {
   "cell_type": "code",
   "execution_count": 44,
   "id": "f068c052",
   "metadata": {},
   "outputs": [
    {
     "name": "stdout",
     "output_type": "stream",
     "text": [
      "False\n"
     ]
    }
   ],
   "source": [
    "x = \"Super hero\"\n",
    "\n",
    "y = x.islower()\n",
    "\n",
    "print(y)"
   ]
  },
  {
   "cell_type": "markdown",
   "id": "32380d51",
   "metadata": {},
   "source": [
    "## 19. isnumeric( )"
   ]
  },
  {
   "cell_type": "markdown",
   "id": "00b6a695",
   "metadata": {},
   "source": [
    "The isnumeric() method is used to check if all characters in a given string are numeric characters. Numeric characters include all characters that can be used to represent numerical values in different scripts, not just the Arabic numerals (0-9). It returns True if all characters are numeric, and False if there is at least one non-numeric character in the string.\n",
    "\n",
    "#### Parameters and Values:\n",
    "The isnumeric() method does not take any parameters.\n",
    "\n",
    "#### Syntax:\n",
    "* string.isnumeric()\n",
    "\n",
    "#### Return value:\n",
    "The isnumeric() method returns a Boolean value, True if all characters in the string are numeric, and False if there is at least one non-numeric character.\n"
   ]
  },
  {
   "cell_type": "code",
   "execution_count": 106,
   "id": "ae09cc1e",
   "metadata": {},
   "outputs": [
    {
     "name": "stdout",
     "output_type": "stream",
     "text": [
      "Help on method_descriptor:\n",
      "\n",
      "isnumeric(self, /)\n",
      "    Return True if the string is a numeric string, False otherwise.\n",
      "    \n",
      "    A string is numeric if all characters in the string are numeric and there is at\n",
      "    least one character in the string.\n",
      "\n"
     ]
    }
   ],
   "source": [
    "help(str.isnumeric)"
   ]
  },
  {
   "cell_type": "code",
   "execution_count": 45,
   "id": "46757e12",
   "metadata": {},
   "outputs": [
    {
     "data": {
      "text/plain": [
       "True"
      ]
     },
     "execution_count": 45,
     "metadata": {},
     "output_type": "execute_result"
    }
   ],
   "source": [
    "'123678'.isnumeric()"
   ]
  },
  {
   "cell_type": "code",
   "execution_count": 46,
   "id": "853d2f4d",
   "metadata": {},
   "outputs": [
    {
     "data": {
      "text/plain": [
       "False"
      ]
     },
     "execution_count": 46,
     "metadata": {},
     "output_type": "execute_result"
    }
   ],
   "source": [
    "'hello 13344'.isnumeric()"
   ]
  },
  {
   "cell_type": "markdown",
   "id": "51a46ceb",
   "metadata": {},
   "source": [
    "## 20. isprintable( )"
   ]
  },
  {
   "cell_type": "markdown",
   "id": "4c3e2f50",
   "metadata": {},
   "source": [
    "The isprintable() method is used to check if all characters in a given string are printable characters. Printable characters are those that can be rendered or displayed as visible text, and they exclude control characters or characters that are not visible. It returns True if all characters in the string are printable, and False if there is at least one non-printable character in the string.\n",
    "\n",
    "#### Parameters and Values:\n",
    "The isprintable() method does not take any parameters.\n",
    "\n",
    "#### Syntax:\n",
    "* string.isprintable()\n",
    "\n",
    "#### Return value:\n",
    "The isprintable() method returns a Boolean value, True if all characters in the string are printable, and False if there is at least one non-printable character."
   ]
  },
  {
   "cell_type": "code",
   "execution_count": 107,
   "id": "d8749ebc",
   "metadata": {},
   "outputs": [
    {
     "name": "stdout",
     "output_type": "stream",
     "text": [
      "Help on method_descriptor:\n",
      "\n",
      "isprintable(self, /)\n",
      "    Return True if the string is printable, False otherwise.\n",
      "    \n",
      "    A string is printable if all of its characters are considered printable in\n",
      "    repr() or if it is empty.\n",
      "\n"
     ]
    }
   ],
   "source": [
    "help(str.isprintable)"
   ]
  },
  {
   "cell_type": "code",
   "execution_count": 47,
   "id": "b89970ba",
   "metadata": {},
   "outputs": [
    {
     "name": "stdout",
     "output_type": "stream",
     "text": [
      "True\n"
     ]
    }
   ],
   "source": [
    "text1 = \"Hello, World!\"\n",
    "text2 = \"Hello\\nWorld!\"  # Contains a newline character\n",
    "x = text1.isprintable()\n",
    "y = text2.isprintable()\n",
    "print(x)  # Output: True (all characters are printable)\n"
   ]
  },
  {
   "cell_type": "code",
   "execution_count": 48,
   "id": "42a2ad44",
   "metadata": {},
   "outputs": [
    {
     "name": "stdout",
     "output_type": "stream",
     "text": [
      "False\n"
     ]
    }
   ],
   "source": [
    "print(y)  # Output: False (contains a non-printable character)"
   ]
  },
  {
   "cell_type": "markdown",
   "id": "231efd50",
   "metadata": {},
   "source": [
    "## 21. isspace( )\n"
   ]
  },
  {
   "cell_type": "markdown",
   "id": "abdfc251",
   "metadata": {},
   "source": [
    "The isspace() method is used to check if all characters in a given string are whitespace characters. Whitespace characters include spaces, tabs, and newline characters, among others. It returns True if all characters in the string are whitespace, and False if there is at least one non-whitespace character in the string.\n",
    "\n",
    "#### Parameters and Values:\n",
    "The isspace() method does not take any parameters.\n",
    "\n",
    "#### Syntax:\n",
    "* string.isspace()\n",
    "\n",
    "#### Return value:\n",
    "The isspace() method returns a Boolean value, True if all characters in the string are whitespace characters, and False if there is at least one non-whitespace character.\n",
    "\n"
   ]
  },
  {
   "cell_type": "code",
   "execution_count": 108,
   "id": "c36b3e7f",
   "metadata": {},
   "outputs": [
    {
     "name": "stdout",
     "output_type": "stream",
     "text": [
      "Help on method_descriptor:\n",
      "\n",
      "isspace(self, /)\n",
      "    Return True if the string is a whitespace string, False otherwise.\n",
      "    \n",
      "    A string is whitespace if all characters in the string are whitespace and there\n",
      "    is at least one character in the string.\n",
      "\n"
     ]
    }
   ],
   "source": [
    "help(str.isspace)"
   ]
  },
  {
   "cell_type": "code",
   "execution_count": 49,
   "id": "becdb28b",
   "metadata": {},
   "outputs": [
    {
     "name": "stdout",
     "output_type": "stream",
     "text": [
      "True\n"
     ]
    }
   ],
   "source": [
    "text1 = \"   \"\n",
    "text2 = \"Hello, World!\"\n",
    "x = text1.isspace()\n",
    "y = text2.isspace()\n",
    "print(x)  # Output: True (all characters are whitespace)\n",
    "\n"
   ]
  },
  {
   "cell_type": "code",
   "execution_count": 50,
   "id": "d7ad7cde",
   "metadata": {},
   "outputs": [
    {
     "name": "stdout",
     "output_type": "stream",
     "text": [
      "False\n"
     ]
    }
   ],
   "source": [
    "print(y)  # Output: False (contains non-whitespace characters)"
   ]
  },
  {
   "cell_type": "markdown",
   "id": "0f4dabe4",
   "metadata": {},
   "source": [
    "## 22. istitle( )"
   ]
  },
  {
   "cell_type": "markdown",
   "id": "47dd43e9",
   "metadata": {},
   "source": [
    "The istitle() method is used to check if a given string follows the titlecased text rules. In titlecased text, each word begins with an uppercase letter, and all other characters are lowercase. It returns True if the string follows the titlecased rules and False if it does not.\n",
    "\n",
    "#### Parameters and Values:\n",
    "The istitle() method does not take any parameters.\n",
    "\n",
    "#### Syntax:\n",
    "* string.istitle()\n",
    "\n",
    "#### Return value:\n",
    "The istitle() method returns a Boolean value, True if the string follows the titlecased text rules, and False if it does not."
   ]
  },
  {
   "cell_type": "code",
   "execution_count": 109,
   "id": "974683e9",
   "metadata": {},
   "outputs": [
    {
     "name": "stdout",
     "output_type": "stream",
     "text": [
      "Help on method_descriptor:\n",
      "\n",
      "istitle(self, /)\n",
      "    Return True if the string is a title-cased string, False otherwise.\n",
      "    \n",
      "    In a title-cased string, upper- and title-case characters may only\n",
      "    follow uncased characters and lowercase characters only cased ones.\n",
      "\n"
     ]
    }
   ],
   "source": [
    "help(str.istitle)"
   ]
  },
  {
   "cell_type": "code",
   "execution_count": 55,
   "id": "82e99cff",
   "metadata": {},
   "outputs": [
    {
     "name": "stdout",
     "output_type": "stream",
     "text": [
      "True\n"
     ]
    }
   ],
   "source": [
    "text1 = \"Hello, World!\"\n",
    "text2 = \"hello World\"\n",
    "x = text1.istitle()\n",
    "y = text2.istitle()\n",
    "print(x)  # Output: True (titlecased)"
   ]
  },
  {
   "cell_type": "code",
   "execution_count": 56,
   "id": "9cad0c2b",
   "metadata": {},
   "outputs": [
    {
     "name": "stdout",
     "output_type": "stream",
     "text": [
      "False\n"
     ]
    }
   ],
   "source": [
    "print(y)  # Output: False (not titlecased)"
   ]
  },
  {
   "cell_type": "markdown",
   "id": "792bdb49",
   "metadata": {},
   "source": [
    "## 23. isupper( )"
   ]
  },
  {
   "cell_type": "markdown",
   "id": "bc612a56",
   "metadata": {},
   "source": [
    "The isupper() method is used to check if all alphabetic characters in a given string are in uppercase. It returns True if all alphabetic characters are in uppercase letters, and False if there is at least one lowercase or non-alphabetic character in the string.\n",
    "\n",
    "#### Parameters and Values:\n",
    "The isupper() method does not take any parameters.\n",
    "\n",
    "#### Syntax:\n",
    "* string.isupper()\n",
    "\n",
    "#### Return value:\n",
    "The isupper() method returns a Boolean value, True if all alphabetic characters in the string are in uppercase, and False if there is at least one lowercase or non-alphabetic character."
   ]
  },
  {
   "cell_type": "code",
   "execution_count": 110,
   "id": "02c35730",
   "metadata": {},
   "outputs": [
    {
     "name": "stdout",
     "output_type": "stream",
     "text": [
      "Help on method_descriptor:\n",
      "\n",
      "isupper(self, /)\n",
      "    Return True if the string is an uppercase string, False otherwise.\n",
      "    \n",
      "    A string is uppercase if all cased characters in the string are uppercase and\n",
      "    there is at least one cased character in the string.\n",
      "\n"
     ]
    }
   ],
   "source": [
    "help(str.isupper)"
   ]
  },
  {
   "cell_type": "code",
   "execution_count": 57,
   "id": "33b4fa7f",
   "metadata": {},
   "outputs": [
    {
     "name": "stdout",
     "output_type": "stream",
     "text": [
      "True\n"
     ]
    }
   ],
   "source": [
    "text1 = \"HELLO WORLD\"\n",
    "text2 = \"Hello World\"\n",
    "x = text1.isupper()\n",
    "y = text2.isupper()\n",
    "print(x)  # Output: True (all uppercase characters)"
   ]
  },
  {
   "cell_type": "code",
   "execution_count": 58,
   "id": "0cb178a2",
   "metadata": {},
   "outputs": [
    {
     "name": "stdout",
     "output_type": "stream",
     "text": [
      "False\n"
     ]
    }
   ],
   "source": [
    "print(y)  # Output: False (contains lowercase characters)"
   ]
  },
  {
   "cell_type": "markdown",
   "id": "9ec9e726",
   "metadata": {},
   "source": [
    "## 24. join( )"
   ]
  },
  {
   "cell_type": "markdown",
   "id": "51b93429",
   "metadata": {},
   "source": [
    "The join() method is a built-in string method in Python used to concatenate elements of an iterable, such as a list or tuple, into a single string. It uses the string on which it is called as a separator to join the elements of the iterable.\n",
    "\n",
    "#### Parameters and Values:\n",
    "\n",
    "iterable (required): The iterable whose elements you want to concatenate into a string.\n",
    "It can be a list, tuple, or any iterable containing strings or objects that can be converted to strings.\n",
    "\n",
    "#### Syntax:\n",
    "* separator_string.join(iterable)\n",
    "\n",
    "#### Return value:\n",
    "The join() method returns a new string formed by joining the elements of the iterable with the separator string."
   ]
  },
  {
   "cell_type": "code",
   "execution_count": 111,
   "id": "ef793fc9",
   "metadata": {},
   "outputs": [
    {
     "name": "stdout",
     "output_type": "stream",
     "text": [
      "Help on method_descriptor:\n",
      "\n",
      "join(self, iterable, /)\n",
      "    Concatenate any number of strings.\n",
      "    \n",
      "    The string whose method is called is inserted in between each given string.\n",
      "    The result is returned as a new string.\n",
      "    \n",
      "    Example: '.'.join(['ab', 'pq', 'rs']) -> 'ab.pq.rs'\n",
      "\n"
     ]
    }
   ],
   "source": [
    "help(str.join)"
   ]
  },
  {
   "cell_type": "code",
   "execution_count": 59,
   "id": "0a9b242d",
   "metadata": {},
   "outputs": [
    {
     "name": "stdout",
     "output_type": "stream",
     "text": [
      "Virat, Kohli, King\n"
     ]
    }
   ],
   "source": [
    "my_list = [\"Virat\", \"Kohli\", \"King\"]\n",
    "result = \", \".join(my_list)\n",
    "print(result)\n"
   ]
  },
  {
   "cell_type": "markdown",
   "id": "df89c0a6",
   "metadata": {},
   "source": [
    "## 25. ljust( )"
   ]
  },
  {
   "cell_type": "markdown",
   "id": "69a95af7",
   "metadata": {},
   "source": [
    "The ljust() method is a built-in string method in Python used to left-justify a string within a specified width. It pads the original string with a specified character (or whitespace by default) on the right side to make it reach the desired width.\n",
    "\n",
    "#### Parameters and Values:\n",
    "\n",
    "* width (required): An integer that specifies the total width of the resulting string, including the original string.\n",
    "* fillchar (optional): A character that is used for padding the string. If not provided, it defaults to whitespace.\n",
    "\n",
    "#### Syntax:\n",
    "* str.ljust(len, fillchr)\n",
    "\n",
    "#### Return value:\n",
    "The ljust() method returns a new string that is left-justified within the specified width. If the original string is already wider than the specified width, no padding is added.\n"
   ]
  },
  {
   "cell_type": "code",
   "execution_count": 112,
   "id": "b2f3ba0d",
   "metadata": {},
   "outputs": [
    {
     "name": "stdout",
     "output_type": "stream",
     "text": [
      "Help on method_descriptor:\n",
      "\n",
      "ljust(self, width, fillchar=' ', /)\n",
      "    Return a left-justified string of length width.\n",
      "    \n",
      "    Padding is done using the specified fill character (default is a space).\n",
      "\n"
     ]
    }
   ],
   "source": [
    "help(str.ljust)"
   ]
  },
  {
   "cell_type": "code",
   "execution_count": 60,
   "id": "8702c265",
   "metadata": {},
   "outputs": [
    {
     "name": "stdout",
     "output_type": "stream",
     "text": [
      "Python****\n"
     ]
    }
   ],
   "source": [
    "text = \"Python\"\n",
    "x = text.ljust(10, '*')\n",
    "print(x)\n"
   ]
  },
  {
   "cell_type": "markdown",
   "id": "f68ee765",
   "metadata": {},
   "source": [
    "## 26. lower( )"
   ]
  },
  {
   "cell_type": "markdown",
   "id": "f5528619",
   "metadata": {},
   "source": [
    "The lower() method is a built-in string method in Python used to convert all the alphabetic characters in a string to lowercase. It doesn't modify the original string but returns a new string with all alphabetic characters in lowercase.\n",
    "\n",
    "#### Parameters and Values:\n",
    "The lower() method does not take any parameters.\n",
    "\n",
    "#### Syntax:\n",
    "* string.lower()\n",
    "\n",
    "#### Return value:\n",
    "The lower() method returns a new string with all the alphabetic characters in lowercase."
   ]
  },
  {
   "cell_type": "code",
   "execution_count": 113,
   "id": "084048f6",
   "metadata": {},
   "outputs": [
    {
     "name": "stdout",
     "output_type": "stream",
     "text": [
      "Help on method_descriptor:\n",
      "\n",
      "lower(self, /)\n",
      "    Return a copy of the string converted to lowercase.\n",
      "\n"
     ]
    }
   ],
   "source": [
    "help(str.lower)"
   ]
  },
  {
   "cell_type": "code",
   "execution_count": 61,
   "id": "ad395b88",
   "metadata": {},
   "outputs": [
    {
     "name": "stdout",
     "output_type": "stream",
     "text": [
      "hello, world!\n"
     ]
    }
   ],
   "source": [
    "text = \"Hello, World!\"\n",
    "x = text.lower()\n",
    "print(x)\n"
   ]
  },
  {
   "cell_type": "markdown",
   "id": "7f6a8b16",
   "metadata": {},
   "source": [
    "## 27. lstrip( )"
   ]
  },
  {
   "cell_type": "markdown",
   "id": "ad102888",
   "metadata": {},
   "source": [
    "The lstrip() method is a built-in string method in Python used to remove leading (leftmost) whitespace characters or specified characters from the beginning of a string. It returns a new string with the specified characters removed from the left.\n",
    "\n",
    "#### Parameters and Values:\n",
    "\n",
    "chars (optional): A string specifying the characters to be removed from the left side of the original string. If not provided, it removes leading whitespace characters, such as spaces and tabs.\n",
    "\n",
    "#### Syntax:\n",
    "* string.lstrip([chars])\n",
    "\n",
    "#### Return value:\n",
    "The lstrip() method returns a new string with the specified characters removed from the left side of the original string.\n"
   ]
  },
  {
   "cell_type": "code",
   "execution_count": 116,
   "id": "73b95ad9",
   "metadata": {},
   "outputs": [
    {
     "name": "stdout",
     "output_type": "stream",
     "text": [
      "Help on method_descriptor:\n",
      "\n",
      "lstrip(self, chars=None, /)\n",
      "    Return a copy of the string with leading whitespace removed.\n",
      "    \n",
      "    If chars is given and not None, remove characters in chars instead.\n",
      "\n"
     ]
    }
   ],
   "source": [
    "help(str.lstrip)"
   ]
  },
  {
   "cell_type": "code",
   "execution_count": 62,
   "id": "b3ef78af",
   "metadata": {},
   "outputs": [
    {
     "name": "stdout",
     "output_type": "stream",
     "text": [
      "Kohli is best   \n"
     ]
    }
   ],
   "source": [
    "text = \"   Kohli is best   \"\n",
    "x = text.lstrip()\n",
    "print(x)\n"
   ]
  },
  {
   "cell_type": "markdown",
   "id": "d115101f",
   "metadata": {},
   "source": [
    "## 28. partition( )"
   ]
  },
  {
   "cell_type": "markdown",
   "id": "e7887a69",
   "metadata": {},
   "source": [
    "The partition() method is a built-in string method in Python used to split a string into three parts based on the first occurrence of a specified separator. It returns a tuple containing three elements: the part of the string before the separator, the separator itself, and the part of the string after the separator.\n",
    "\n",
    "#### Parameters and Values:\n",
    "\n",
    "separator (required): The separator at which the string will be split into three parts.\n",
    "\n",
    "#### Syntax:\n",
    "* string.partition(separator)\n",
    "\n",
    "#### Return value: \n",
    "The partition() method returns a tuple containing three elements: the part of the string before the first occurrence of the separator, the separator itself, and the part of the string after the separator."
   ]
  },
  {
   "cell_type": "code",
   "execution_count": 117,
   "id": "775c7813",
   "metadata": {},
   "outputs": [
    {
     "name": "stdout",
     "output_type": "stream",
     "text": [
      "Help on method_descriptor:\n",
      "\n",
      "partition(self, sep, /)\n",
      "    Partition the string into three parts using the given separator.\n",
      "    \n",
      "    This will search for the separator in the string.  If the separator is found,\n",
      "    returns a 3-tuple containing the part before the separator, the separator\n",
      "    itself, and the part after it.\n",
      "    \n",
      "    If the separator is not found, returns a 3-tuple containing the original string\n",
      "    and two empty strings.\n",
      "\n"
     ]
    }
   ],
   "source": [
    "help(str.partition)"
   ]
  },
  {
   "cell_type": "code",
   "execution_count": 63,
   "id": "b7f05a1b",
   "metadata": {},
   "outputs": [
    {
     "name": "stdout",
     "output_type": "stream",
     "text": [
      "('Virat ', 'is', ' best. Virat is Goat.')\n"
     ]
    }
   ],
   "source": [
    "text = \"Virat is best. Virat is Goat.\"\n",
    "x = text.partition(\"is\")\n",
    "print(x)\n"
   ]
  },
  {
   "cell_type": "markdown",
   "id": "6d944459",
   "metadata": {},
   "source": [
    "## 29. removeprefix( )"
   ]
  },
  {
   "cell_type": "markdown",
   "id": "5270cc2e",
   "metadata": {},
   "source": [
    "The removeprefix() method is used to remove a specified prefix from the beginning of a string. It checks if the string starts with the given prefix and, if so, it removes that prefix. If the string does not start with the specified prefix, it returns the original string. This method was introduced in Python 3.9.\n",
    "\n",
    "#### Parameters and Values:\n",
    "\n",
    "prefix (required): The prefix you want to remove from the string.\n",
    "\n",
    "#### Syntax:\n",
    "* string.removeprefix(prefix)\n",
    "\n",
    "#### Return value:\n",
    "The removeprefix() method returns a new string with the specified prefix removed from the beginning. If the string does not start with the prefix, it returns the original string."
   ]
  },
  {
   "cell_type": "code",
   "execution_count": 118,
   "id": "3d84b798",
   "metadata": {},
   "outputs": [
    {
     "name": "stdout",
     "output_type": "stream",
     "text": [
      "Help on method_descriptor:\n",
      "\n",
      "removeprefix(self, prefix, /)\n",
      "    Return a str with the given prefix string removed if present.\n",
      "    \n",
      "    If the string starts with the prefix string, return string[len(prefix):].\n",
      "    Otherwise, return a copy of the original string.\n",
      "\n"
     ]
    }
   ],
   "source": [
    "help(str.removeprefix)"
   ]
  },
  {
   "cell_type": "code",
   "execution_count": 64,
   "id": "4416c19a",
   "metadata": {},
   "outputs": [
    {
     "name": "stdout",
     "output_type": "stream",
     "text": [
      "World!\n"
     ]
    }
   ],
   "source": [
    "text = \"Hello, World!\"\n",
    "x = text.removeprefix(\"Hello, \")\n",
    "print(x)\n"
   ]
  },
  {
   "cell_type": "markdown",
   "id": "687c4262",
   "metadata": {},
   "source": [
    "## 30. removesuffix( )"
   ]
  },
  {
   "cell_type": "markdown",
   "id": "9d0b8054",
   "metadata": {},
   "source": [
    "The removesuffix() method is used to remove a specified suffix from the end of a string. It checks if the string ends with the given suffix, and if so, it removes that suffix. If the string does not end with the specified suffix, it returns the original string. This method was introduced in Python 3.9.\n",
    "\n",
    "#### Parameters and Values:\n",
    "\n",
    "suffix (required): The suffix you want to remove from the string.\n",
    "\n",
    "#### Syntax:\n",
    "* string.removesuffix(suffix)\n",
    "\n",
    "#### Return value:\n",
    "The removesuffix() method returns a new string with the specified suffix removed from the end. If the string does not end with the suffix, it returns the original string.\n",
    "\n",
    "Returns: string[ : – len (suffix) ]\n"
   ]
  },
  {
   "cell_type": "code",
   "execution_count": 119,
   "id": "266e77ae",
   "metadata": {},
   "outputs": [
    {
     "name": "stdout",
     "output_type": "stream",
     "text": [
      "Help on method_descriptor:\n",
      "\n",
      "removesuffix(self, suffix, /)\n",
      "    Return a str with the given suffix string removed if present.\n",
      "    \n",
      "    If the string ends with the suffix string and that suffix is not empty,\n",
      "    return string[:-len(suffix)]. Otherwise, return a copy of the original\n",
      "    string.\n",
      "\n"
     ]
    }
   ],
   "source": [
    "help(str.removesuffix)"
   ]
  },
  {
   "cell_type": "code",
   "execution_count": 65,
   "id": "679935a8",
   "metadata": {},
   "outputs": [
    {
     "name": "stdout",
     "output_type": "stream",
     "text": [
      "Hello\n"
     ]
    }
   ],
   "source": [
    "text = \"Hello, World!\"\n",
    "x = text.removesuffix(\", World!\")\n",
    "print(x)\n"
   ]
  },
  {
   "cell_type": "markdown",
   "id": "b7d53084",
   "metadata": {},
   "source": [
    "## 31. replace( )"
   ]
  },
  {
   "cell_type": "markdown",
   "id": "76682341",
   "metadata": {},
   "source": [
    "The replace() method is a built-in string method in Python used to create a new string by replacing all occurrences of a specified substring or character in the original string with another substring or character.\n",
    "\n",
    "#### Parameters and Values:\n",
    "\n",
    "* old (required): The substring or character to be replaced.\n",
    "* new (required): The substring or character to replace old with.\n",
    "* count (optional): An optional integer specifying the maximum number of occurrences to replace. If not provided, all occurrences will be replaced.\n",
    "\n",
    "#### Syntax:\n",
    "* string.replace(old, new, count)\n",
    "\n",
    "#### Return value:\n",
    "The replace() method returns a new string with all occurrences of old replaced by new.\n"
   ]
  },
  {
   "cell_type": "code",
   "execution_count": 120,
   "id": "acfce784",
   "metadata": {},
   "outputs": [
    {
     "name": "stdout",
     "output_type": "stream",
     "text": [
      "Help on method_descriptor:\n",
      "\n",
      "replace(self, old, new, count=-1, /)\n",
      "    Return a copy with all occurrences of substring old replaced by new.\n",
      "    \n",
      "      count\n",
      "        Maximum number of occurrences to replace.\n",
      "        -1 (the default value) means replace all occurrences.\n",
      "    \n",
      "    If the optional argument count is given, only the first count occurrences are\n",
      "    replaced.\n",
      "\n"
     ]
    }
   ],
   "source": [
    "help(str.replace)"
   ]
  },
  {
   "cell_type": "code",
   "execution_count": 66,
   "id": "327f8a7a",
   "metadata": {},
   "outputs": [
    {
     "name": "stdout",
     "output_type": "stream",
     "text": [
      "Hi, World! Hi, Python!\n"
     ]
    }
   ],
   "source": [
    "text = \"Hello, World! Hello, Python!\"\n",
    "x = text.replace(\"Hello\", \"Hi\")\n",
    "print(x)\n"
   ]
  },
  {
   "cell_type": "markdown",
   "id": "84128132",
   "metadata": {},
   "source": [
    "## 32. rfind( )"
   ]
  },
  {
   "cell_type": "markdown",
   "id": "93419598",
   "metadata": {},
   "source": [
    "The rfind() method is a built-in string method in Python used to find the highest (rightmost) index at which a specified substring is located within the original string. If the substring is not found, it returns -1.\n",
    "\n",
    "#### Parameters and Values:\n",
    "\n",
    "* sub (required): The substring to search for within the string.\n",
    "* start (optional): The starting index for the search (default is 0).\n",
    "* end (optional): The ending index for the search (default is the end of the string).\n",
    "\n",
    "#### Syntax:\n",
    "* str.rfind(sub, start, end)\n",
    "\n",
    "#### Return value:\n",
    "The rfind() method returns the highest (rightmost) index where the substring sub is found in the string. If the substring is not found, it returns -1.\n",
    "\n",
    "\n"
   ]
  },
  {
   "cell_type": "code",
   "execution_count": 121,
   "id": "51cdfbad",
   "metadata": {},
   "outputs": [
    {
     "name": "stdout",
     "output_type": "stream",
     "text": [
      "Help on method_descriptor:\n",
      "\n",
      "rfind(...)\n",
      "    S.rfind(sub[, start[, end]]) -> int\n",
      "    \n",
      "    Return the highest index in S where substring sub is found,\n",
      "    such that sub is contained within S[start:end].  Optional\n",
      "    arguments start and end are interpreted as in slice notation.\n",
      "    \n",
      "    Return -1 on failure.\n",
      "\n"
     ]
    }
   ],
   "source": [
    "help(str.rfind)"
   ]
  },
  {
   "cell_type": "code",
   "execution_count": 67,
   "id": "01a040dc",
   "metadata": {},
   "outputs": [
    {
     "name": "stdout",
     "output_type": "stream",
     "text": [
      "14\n"
     ]
    }
   ],
   "source": [
    "text = \"Hello, World! Hello, Python!\"\n",
    "x = text.rfind(\"Hello\")\n",
    "print(x)\n"
   ]
  },
  {
   "cell_type": "markdown",
   "id": "d954230c",
   "metadata": {},
   "source": [
    "## 33. rindex( )"
   ]
  },
  {
   "cell_type": "markdown",
   "id": "1434fa62",
   "metadata": {},
   "source": [
    "The rindex() method is a built-in string method in Python that is used to find the highest (rightmost) index at which a specified substring is located within the original string. It is similar to the rfind() method but differs in how it handles cases where the substring is not found. If the substring is not found, the rindex() method raises a ValueError exception, while rfind() returns -1.\n",
    "\n",
    "#### Parameters and Values:\n",
    "\n",
    "* sub (required): The substring to search for within the string.\n",
    "* start (optional): The starting index for the search (default is 0).\n",
    "* end (optional): The ending index for the search (default is the end of the string).\n",
    "\n",
    "#### Syntax:\n",
    "* str.rindex(sub, start, end)\n",
    "\n",
    "#### Return value:\n",
    "The rindex() method returns the highest (rightmost) index where the substring sub is found in the string. If the substring is not found, it raises a ValueError exception.\n",
    "\n"
   ]
  },
  {
   "cell_type": "code",
   "execution_count": 122,
   "id": "1f35d18e",
   "metadata": {},
   "outputs": [
    {
     "name": "stdout",
     "output_type": "stream",
     "text": [
      "Help on method_descriptor:\n",
      "\n",
      "rindex(...)\n",
      "    S.rindex(sub[, start[, end]]) -> int\n",
      "    \n",
      "    Return the highest index in S where substring sub is found,\n",
      "    such that sub is contained within S[start:end].  Optional\n",
      "    arguments start and end are interpreted as in slice notation.\n",
      "    \n",
      "    Raises ValueError when the substring is not found.\n",
      "\n"
     ]
    }
   ],
   "source": [
    "help(str.rindex)"
   ]
  },
  {
   "cell_type": "code",
   "execution_count": 71,
   "id": "f0ebb2b6",
   "metadata": {},
   "outputs": [
    {
     "name": "stdout",
     "output_type": "stream",
     "text": [
      "17\n"
     ]
    }
   ],
   "source": [
    "text = \"Hello, World! Hi Python!\"\n",
    "x = text.rindex(\"Python\")\n",
    "print(x)\n"
   ]
  },
  {
   "cell_type": "markdown",
   "id": "0ee1da84",
   "metadata": {},
   "source": [
    "## 34. rjust( )"
   ]
  },
  {
   "cell_type": "markdown",
   "id": "6b3f3f68",
   "metadata": {},
   "source": [
    "The rjust() method is a built-in string method in Python used to right-justify a string within a specified width. It pads the original string with a specified character (or whitespace by default) on the left side to make it reach the desired width.\n",
    "\n",
    "#### Parameters and Values:\n",
    "\n",
    "* width (required): An integer that specifies the total width of the resulting string, including the original string.\n",
    "* fillchar (optional): A character that is used for padding the string. If not provided, it defaults to whitespace.\n",
    "\n",
    "#### Syntax:\n",
    "* string.rjust(length, fillchar)\n",
    "\n",
    "#### Return value:\n",
    "The rjust() method returns a new string formed by right-justifying the original string within the specified width. If the original string is already wider than the specified width, no padding is added.\n",
    "\n"
   ]
  },
  {
   "cell_type": "code",
   "execution_count": 123,
   "id": "4c86455a",
   "metadata": {},
   "outputs": [
    {
     "name": "stdout",
     "output_type": "stream",
     "text": [
      "Help on method_descriptor:\n",
      "\n",
      "rjust(self, width, fillchar=' ', /)\n",
      "    Return a right-justified string of length width.\n",
      "    \n",
      "    Padding is done using the specified fill character (default is a space).\n",
      "\n"
     ]
    }
   ],
   "source": [
    "help(str.rjust)"
   ]
  },
  {
   "cell_type": "code",
   "execution_count": 72,
   "id": "b087bccd",
   "metadata": {},
   "outputs": [
    {
     "name": "stdout",
     "output_type": "stream",
     "text": [
      "****Python\n"
     ]
    }
   ],
   "source": [
    "text = \"Python\"\n",
    "x = text.rjust(10, '*')\n",
    "print(x)\n"
   ]
  },
  {
   "cell_type": "markdown",
   "id": "d7e1d899",
   "metadata": {},
   "source": [
    "## 35. rpartition( )"
   ]
  },
  {
   "cell_type": "markdown",
   "id": "33965795",
   "metadata": {},
   "source": [
    "The rpartition() method is a built-in string method in Python used to split a string into three parts based on the last occurrence of a specified separator. It returns a tuple containing three elements: the part of the string before the last occurrence of the separator, the separator itself, and the part of the string after the last occurrence of the separator.\n",
    "\n",
    "#### Parameters and Values:\n",
    "separator (required): The separator at which the string will be split into three parts.\n",
    "\n",
    "#### Syntax:\n",
    "* string.rpartition(separator)\n",
    "\n",
    "#### Return value:\n",
    "The rpartition() method returns a tuple containing three elements: the part of the string before the last occurrence of the separator, the separator itself, and the part of the string after the last occurrence of the separator."
   ]
  },
  {
   "cell_type": "code",
   "execution_count": 124,
   "id": "3233cbe6",
   "metadata": {},
   "outputs": [
    {
     "name": "stdout",
     "output_type": "stream",
     "text": [
      "Help on method_descriptor:\n",
      "\n",
      "rpartition(self, sep, /)\n",
      "    Partition the string into three parts using the given separator.\n",
      "    \n",
      "    This will search for the separator in the string, starting at the end. If\n",
      "    the separator is found, returns a 3-tuple containing the part before the\n",
      "    separator, the separator itself, and the part after it.\n",
      "    \n",
      "    If the separator is not found, returns a 3-tuple containing two empty strings\n",
      "    and the original string.\n",
      "\n"
     ]
    }
   ],
   "source": [
    "help(str.rpartition)"
   ]
  },
  {
   "cell_type": "code",
   "execution_count": 73,
   "id": "e93d6218",
   "metadata": {},
   "outputs": [
    {
     "name": "stdout",
     "output_type": "stream",
     "text": [
      "('Hello, World! ', 'Hello', ', Python!')\n"
     ]
    }
   ],
   "source": [
    "text = \"Hello, World! Hello, Python!\"\n",
    "x = text.rpartition(\"Hello\")\n",
    "print(x)\n"
   ]
  },
  {
   "cell_type": "markdown",
   "id": "e6780719",
   "metadata": {},
   "source": [
    "## 36. rsplit( )"
   ]
  },
  {
   "cell_type": "markdown",
   "id": "d2f428ac",
   "metadata": {},
   "source": [
    "The rsplit() method is a built-in string method in Python used to split a string into a list of substrings starting from the right (the end of the string) and working towards the left. You can specify a separator (default is whitespace) and an optional maximum number of splits to control the splitting process.\n",
    "\n",
    "#### Parameters and Values:\n",
    "\n",
    "* sep (optional): The separator at which the string will be split into substrings. If not provided, the default separator is whitespace.\n",
    "* maxsplit (optional): An integer that specifies the maximum number of splits to perform. If not provided, there is no maximum limit, and the string will be split at every occurrence of the separator.\n",
    "\n",
    "#### Syntax:\n",
    "* str.rsplit(separator, maxsplit)\n",
    "\n",
    "#### Return value:\n",
    "The rsplit() method returns a list of substrings resulting from splitting the original string from right to left.\n"
   ]
  },
  {
   "cell_type": "code",
   "execution_count": 125,
   "id": "79c1eda7",
   "metadata": {},
   "outputs": [
    {
     "name": "stdout",
     "output_type": "stream",
     "text": [
      "Help on method_descriptor:\n",
      "\n",
      "rsplit(self, /, sep=None, maxsplit=-1)\n",
      "    Return a list of the substrings in the string, using sep as the separator string.\n",
      "    \n",
      "      sep\n",
      "        The separator used to split the string.\n",
      "    \n",
      "        When set to None (the default value), will split on any whitespace\n",
      "        character (including \\\\n \\\\r \\\\t \\\\f and spaces) and will discard\n",
      "        empty strings from the result.\n",
      "      maxsplit\n",
      "        Maximum number of splits (starting from the left).\n",
      "        -1 (the default value) means no limit.\n",
      "    \n",
      "    Splitting starts at the end of the string and works to the front.\n",
      "\n"
     ]
    }
   ],
   "source": [
    "help(str.rsplit)"
   ]
  },
  {
   "cell_type": "code",
   "execution_count": 74,
   "id": "07c083d3",
   "metadata": {},
   "outputs": [
    {
     "name": "stdout",
     "output_type": "stream",
     "text": [
      "['what is your', 'name', '?']\n"
     ]
    }
   ],
   "source": [
    "a = 'what is your name ?'.rsplit(maxsplit = 2)\n",
    "\n",
    "print(a)"
   ]
  },
  {
   "cell_type": "markdown",
   "id": "5c620996",
   "metadata": {},
   "source": [
    "## 37. rstrip( )"
   ]
  },
  {
   "cell_type": "markdown",
   "id": "34d01708",
   "metadata": {},
   "source": [
    "The rstrip() method is a built-in string method in Python used to remove trailing (rightmost) whitespace characters or specified characters from the end of a string. It returns a new string with the specified characters removed from the right.\n",
    "\n",
    "#### Parameters and Values:\n",
    "\n",
    "* chars (optional): A string specifying the characters to be removed from the right side of the original string. If not provided, it removes trailing whitespace characters, such as spaces and tabs.\n",
    "\n",
    "#### Syntax:\n",
    "* string.rstrip([chars])\n",
    "\n",
    "#### Return value:\n",
    "The rstrip() method returns a new string with the specified characters removed from the right side of the original string.\n"
   ]
  },
  {
   "cell_type": "code",
   "execution_count": 126,
   "id": "a9334888",
   "metadata": {},
   "outputs": [
    {
     "name": "stdout",
     "output_type": "stream",
     "text": [
      "Help on method_descriptor:\n",
      "\n",
      "rstrip(self, chars=None, /)\n",
      "    Return a copy of the string with trailing whitespace removed.\n",
      "    \n",
      "    If chars is given and not None, remove characters in chars instead.\n",
      "\n"
     ]
    }
   ],
   "source": [
    "help(str.rstrip)"
   ]
  },
  {
   "cell_type": "code",
   "execution_count": 75,
   "id": "87acf1bc",
   "metadata": {},
   "outputs": [
    {
     "data": {
      "text/plain": [
       "'     Kohli'"
      ]
     },
     "execution_count": 75,
     "metadata": {},
     "output_type": "execute_result"
    }
   ],
   "source": [
    "x = '     Kohli    '\n",
    "\n",
    "y = x.rstrip()\n",
    "\n",
    "y"
   ]
  },
  {
   "cell_type": "code",
   "execution_count": 76,
   "id": "37be2c46",
   "metadata": {},
   "outputs": [
    {
     "data": {
      "text/plain": [
       "'!@#malayalam'"
      ]
     },
     "execution_count": 76,
     "metadata": {},
     "output_type": "execute_result"
    }
   ],
   "source": [
    "x = '!@#malayalam#@!'\n",
    "\n",
    "y = x.rstrip('#@!')\n",
    "\n",
    "y"
   ]
  },
  {
   "cell_type": "markdown",
   "id": "75ac3b1d",
   "metadata": {},
   "source": [
    "## 38. split( )"
   ]
  },
  {
   "cell_type": "markdown",
   "id": "1df42317",
   "metadata": {},
   "source": [
    "The split() method is a built-in string method in Python used to split a string into a list of substrings based on a specified separator (default is whitespace). You can also specify an optional maximum number of splits to control the splitting process.\n",
    "\n",
    "#### Parameters and Values:\n",
    "\n",
    "* sep (optional): The separator at which the string will be split into substrings. If not provided, the default separator is whitespace.\n",
    "* maxsplit (optional): An integer that specifies the maximum number of splits to perform. If not provided, there is no maximum limit, and the string will be split at every occurrence of the separator.\n",
    "\n",
    "#### Syntax: \n",
    "* str.split(separator, maxsplit)\n",
    "\n",
    "#### Return value:\n",
    "The split() method returns a list of substrings resulting from splitting the original string based on the specified separator."
   ]
  },
  {
   "cell_type": "code",
   "execution_count": 127,
   "id": "842f0a2b",
   "metadata": {},
   "outputs": [
    {
     "name": "stdout",
     "output_type": "stream",
     "text": [
      "Help on method_descriptor:\n",
      "\n",
      "split(self, /, sep=None, maxsplit=-1)\n",
      "    Return a list of the substrings in the string, using sep as the separator string.\n",
      "    \n",
      "      sep\n",
      "        The separator used to split the string.\n",
      "    \n",
      "        When set to None (the default value), will split on any whitespace\n",
      "        character (including \\\\n \\\\r \\\\t \\\\f and spaces) and will discard\n",
      "        empty strings from the result.\n",
      "      maxsplit\n",
      "        Maximum number of splits (starting from the left).\n",
      "        -1 (the default value) means no limit.\n",
      "    \n",
      "    Note, str.split() is mainly useful for data that has been intentionally\n",
      "    delimited.  With natural text that includes punctuation, consider using\n",
      "    the regular expression module.\n",
      "\n"
     ]
    }
   ],
   "source": [
    "help(str.split)"
   ]
  },
  {
   "cell_type": "code",
   "execution_count": 77,
   "id": "89414e2a",
   "metadata": {},
   "outputs": [
    {
     "name": "stdout",
     "output_type": "stream",
     "text": [
      "['apple', 'orange', 'banana cherry']\n"
     ]
    }
   ],
   "source": [
    "text = \"apple orange banana cherry\"\n",
    "x = text.split(\" \", 2)\n",
    "print(x)\n"
   ]
  },
  {
   "cell_type": "markdown",
   "id": "2203e094",
   "metadata": {},
   "source": [
    "## 39. splitlines( )"
   ]
  },
  {
   "cell_type": "markdown",
   "id": "abca59f0",
   "metadata": {},
   "source": [
    "The splitlines() method is a built-in string method in Python used to split a string into a list of substrings based on line breaks (newlines). It can handle different line-ending conventions, including \"\\n\" (newline), \"\\r\" (carriage return), and \"\\r\\n\" (carriage return followed by a newline).\n",
    "\n",
    "#### Parameters and Values:\n",
    "\n",
    "keepends (optional): A boolean value that, when set to True, retains the line-ending characters in the resulting substrings. When set to False (default), the line-ending characters are removed.\n",
    "\n",
    "#### Syntax:\n",
    "* string.splitlines([keepends])\n",
    "\n",
    "#### Return value:\n",
    "The splitlines() method returns a list of substrings, where each substring is a line from the original string.\n"
   ]
  },
  {
   "cell_type": "code",
   "execution_count": 128,
   "id": "c41ae173",
   "metadata": {},
   "outputs": [
    {
     "name": "stdout",
     "output_type": "stream",
     "text": [
      "Help on method_descriptor:\n",
      "\n",
      "splitlines(self, /, keepends=False)\n",
      "    Return a list of the lines in the string, breaking at line boundaries.\n",
      "    \n",
      "    Line breaks are not included in the resulting list unless keepends is given and\n",
      "    true.\n",
      "\n"
     ]
    }
   ],
   "source": [
    "help(str.splitlines)"
   ]
  },
  {
   "cell_type": "code",
   "execution_count": 78,
   "id": "72007a79",
   "metadata": {},
   "outputs": [
    {
     "name": "stdout",
     "output_type": "stream",
     "text": [
      "['Line 1', 'Line 2', 'Line 3', 'Line 4']\n"
     ]
    }
   ],
   "source": [
    "text = \"Line 1\\nLine 2\\r\\nLine 3\\rLine 4\"\n",
    "x = text.splitlines()\n",
    "print(x)\n"
   ]
  },
  {
   "cell_type": "markdown",
   "id": "50743ff5",
   "metadata": {},
   "source": [
    "## 40. startswith( )"
   ]
  },
  {
   "cell_type": "markdown",
   "id": "33aa2c7f",
   "metadata": {},
   "source": [
    "The startswith() method is a built-in string method in Python used to check if a string starts with a specified prefix. It returns True if the string begins with the given prefix; otherwise, it returns False.\n",
    "\n",
    "#### Parameters and Values:\n",
    "\n",
    "* prefix (required): The prefix you want to check if the string starts with.\n",
    "* start (optional): An optional integer that specifies the start position for the check within the string.\n",
    "* end (optional): An optional integer that specifies the end position for the check within the string.\n",
    "\n",
    "#### Syntax:\n",
    "* str.startswith(prefix, start, end)\n",
    "\n",
    "#### Return value:\n",
    "The startswith() method returns True if the string starts with the specified prefix; otherwise, it returns False.\n",
    "\n",
    "\n"
   ]
  },
  {
   "cell_type": "code",
   "execution_count": 129,
   "id": "bcc9d726",
   "metadata": {},
   "outputs": [
    {
     "name": "stdout",
     "output_type": "stream",
     "text": [
      "Help on method_descriptor:\n",
      "\n",
      "startswith(...)\n",
      "    S.startswith(prefix[, start[, end]]) -> bool\n",
      "    \n",
      "    Return True if S starts with the specified prefix, False otherwise.\n",
      "    With optional start, test S beginning at that position.\n",
      "    With optional end, stop comparing S at that position.\n",
      "    prefix can also be a tuple of strings to try.\n",
      "\n"
     ]
    }
   ],
   "source": [
    "help(str.startswith)"
   ]
  },
  {
   "cell_type": "code",
   "execution_count": 80,
   "id": "e0d3185d",
   "metadata": {},
   "outputs": [
    {
     "name": "stdout",
     "output_type": "stream",
     "text": [
      "True\n"
     ]
    }
   ],
   "source": [
    "text = \"Hello, World!\"\n",
    "x = text.startswith(\"Hello\")\n",
    "print(x)\n",
    "\n"
   ]
  },
  {
   "cell_type": "code",
   "execution_count": 81,
   "id": "019a66eb",
   "metadata": {},
   "outputs": [
    {
     "name": "stdout",
     "output_type": "stream",
     "text": [
      "False\n"
     ]
    }
   ],
   "source": [
    "text = \"Hi, World!\"\n",
    "x = text.startswith(\"Hello\")\n",
    "print(x)\n"
   ]
  },
  {
   "cell_type": "markdown",
   "id": "0e19c539",
   "metadata": {},
   "source": [
    "## 41. strip( )"
   ]
  },
  {
   "cell_type": "markdown",
   "id": "4a2cf09f",
   "metadata": {},
   "source": [
    "The strip() method is a built-in string method in Python used to remove leading and trailing whitespace characters (spaces, tabs, newline characters) or specified characters from a string. It returns a new string with the specified characters removed from both ends.\n",
    "\n",
    "#### Parameters and Values:\n",
    "chars (optional): A string specifying the characters to be removed from the beginning and end of the original string. If not provided, it removes leading and trailing whitespace characters.\n",
    "\n",
    "#### Syntax:\n",
    "* string.strip([chars])\n",
    "\n",
    "#### Return value:\n",
    "The strip() method returns a new string with the specified characters removed from both the beginning and end of the original string.\n",
    "\n"
   ]
  },
  {
   "cell_type": "code",
   "execution_count": 130,
   "id": "b835bada",
   "metadata": {},
   "outputs": [
    {
     "name": "stdout",
     "output_type": "stream",
     "text": [
      "Help on method_descriptor:\n",
      "\n",
      "strip(self, chars=None, /)\n",
      "    Return a copy of the string with leading and trailing whitespace removed.\n",
      "    \n",
      "    If chars is given and not None, remove characters in chars instead.\n",
      "\n"
     ]
    }
   ],
   "source": [
    "help(str.strip)"
   ]
  },
  {
   "cell_type": "code",
   "execution_count": 82,
   "id": "ae4dc528",
   "metadata": {},
   "outputs": [
    {
     "name": "stdout",
     "output_type": "stream",
     "text": [
      "Python is great\n"
     ]
    }
   ],
   "source": [
    "text = \"   Python is great   \"\n",
    "x = text.strip()\n",
    "print(x)\n"
   ]
  },
  {
   "cell_type": "markdown",
   "id": "128b62fe",
   "metadata": {},
   "source": [
    "## 42. swapcase()\n"
   ]
  },
  {
   "cell_type": "markdown",
   "id": "9fd97dc8",
   "metadata": {},
   "source": [
    "The swapcase() method is a built-in string method in Python used to create a new string with the case of alphabetic characters swapped. Uppercase characters are converted to lowercase, and lowercase characters are converted to uppercase.\n",
    "\n",
    "#### Parameters and Values:\n",
    "The swapcase() method does not take any parameters.\n",
    "\n",
    "#### Syntax:\n",
    "* string.swapcase()\n",
    "\n",
    "#### Return value:\n",
    "The swapcase() method returns a new string with the case of all alphabetic characters swapped.\n"
   ]
  },
  {
   "cell_type": "code",
   "execution_count": 131,
   "id": "f7c4502d",
   "metadata": {},
   "outputs": [
    {
     "name": "stdout",
     "output_type": "stream",
     "text": [
      "Help on method_descriptor:\n",
      "\n",
      "swapcase(self, /)\n",
      "    Convert uppercase characters to lowercase and lowercase characters to uppercase.\n",
      "\n"
     ]
    }
   ],
   "source": [
    "help(str.swapcase)"
   ]
  },
  {
   "cell_type": "code",
   "execution_count": 83,
   "id": "18ed4728",
   "metadata": {},
   "outputs": [
    {
     "name": "stdout",
     "output_type": "stream",
     "text": [
      "hELLO, wORLD!\n"
     ]
    }
   ],
   "source": [
    "text = \"Hello, World!\"\n",
    "x = text.swapcase()\n",
    "print(x)\n"
   ]
  },
  {
   "cell_type": "markdown",
   "id": "edfa9d71",
   "metadata": {},
   "source": [
    "## 43. title()"
   ]
  },
  {
   "cell_type": "markdown",
   "id": "d4467bb9",
   "metadata": {},
   "source": [
    "The title() method is a built-in string method in Python used to create a new string with the first character of each word in uppercase and the remaining characters in lowercase. It's commonly used to format text as a title or heading.\n",
    "\n",
    "#### Parameters and Values:\n",
    "The title() method does not take any parameters.\n",
    "\n",
    "#### Syntax:\n",
    "* string.title()\n",
    "\n",
    "#### Return value:\n",
    "The title() method returns a new string with the first character of each word in uppercase and the remaining characters in lowercase.\n",
    "\n"
   ]
  },
  {
   "cell_type": "code",
   "execution_count": 132,
   "id": "9e2e599a",
   "metadata": {},
   "outputs": [
    {
     "name": "stdout",
     "output_type": "stream",
     "text": [
      "Help on method_descriptor:\n",
      "\n",
      "title(self, /)\n",
      "    Return a version of the string where each word is titlecased.\n",
      "    \n",
      "    More specifically, words start with uppercased characters and all remaining\n",
      "    cased characters have lower case.\n",
      "\n"
     ]
    }
   ],
   "source": [
    "help(str.title)"
   ]
  },
  {
   "cell_type": "code",
   "execution_count": 84,
   "id": "ffbe8a61",
   "metadata": {},
   "outputs": [
    {
     "name": "stdout",
     "output_type": "stream",
     "text": [
      "Python Is Great\n"
     ]
    }
   ],
   "source": [
    "text = \"python is great\"\n",
    "x = text.title()\n",
    "print(x)\n"
   ]
  },
  {
   "cell_type": "markdown",
   "id": "c663a1ce",
   "metadata": {},
   "source": [
    "## 44. upper()"
   ]
  },
  {
   "cell_type": "markdown",
   "id": "76588b96",
   "metadata": {},
   "source": [
    "The upper() method is a built-in string method in Python used to create a new string with all alphabetic characters converted to uppercase. It does not modify the original string but instead returns a new string with the uppercase characters.\n",
    "\n",
    "#### Parameters and Values:\n",
    "The upper() method does not take any parameters.\n",
    "\n",
    "#### Syntax:\n",
    "* string.upper()\n",
    "\n",
    "#### Return value:\n",
    "The upper() method returns a new string with all alphabetic characters converted to uppercase."
   ]
  },
  {
   "cell_type": "code",
   "execution_count": 133,
   "id": "862f915c",
   "metadata": {},
   "outputs": [
    {
     "name": "stdout",
     "output_type": "stream",
     "text": [
      "Help on method_descriptor:\n",
      "\n",
      "upper(self, /)\n",
      "    Return a copy of the string converted to uppercase.\n",
      "\n"
     ]
    }
   ],
   "source": [
    "help(str.upper)"
   ]
  },
  {
   "cell_type": "code",
   "execution_count": 85,
   "id": "94550b93",
   "metadata": {},
   "outputs": [
    {
     "name": "stdout",
     "output_type": "stream",
     "text": [
      "HELLO, WORLD!\n"
     ]
    }
   ],
   "source": [
    "text = \"Hello, World!\"\n",
    "x = text.upper()\n",
    "print(x)\n"
   ]
  },
  {
   "cell_type": "markdown",
   "id": "0ea7fe97",
   "metadata": {},
   "source": [
    "## 45. zfill( )"
   ]
  },
  {
   "cell_type": "markdown",
   "id": "c95fad18",
   "metadata": {},
   "source": [
    "The zfill() method is a built-in string method in Python used to create a new string by padding the original string with '0' characters (zeros) on the left side to achieve a specified width. This method is often used to format numbers with leading zeros.\n",
    "\n",
    "#### Parameters and Values:\n",
    "width (required): An integer specifying the desired width of the resulting string, including the original string.\n",
    "\n",
    "#### Syntax:\n",
    "* string.zfill(width)\n",
    "\n",
    "#### Return value:\n",
    "The zfill() method returns a new string with '0' characters added to the left side of the original string to reach the specified width."
   ]
  },
  {
   "cell_type": "code",
   "execution_count": 134,
   "id": "e4f5aa20",
   "metadata": {},
   "outputs": [
    {
     "name": "stdout",
     "output_type": "stream",
     "text": [
      "Help on method_descriptor:\n",
      "\n",
      "zfill(self, width, /)\n",
      "    Pad a numeric string with zeros on the left, to fill a field of the given width.\n",
      "    \n",
      "    The string is never truncated.\n",
      "\n"
     ]
    }
   ],
   "source": [
    "help(str.zfill)"
   ]
  },
  {
   "cell_type": "code",
   "execution_count": 86,
   "id": "68fbddcb",
   "metadata": {},
   "outputs": [
    {
     "name": "stdout",
     "output_type": "stream",
     "text": [
      "0000000050\n"
     ]
    }
   ],
   "source": [
    "x = \"50\"\n",
    "\n",
    "y = x.zfill(10)\n",
    "\n",
    "print(y)"
   ]
  },
  {
   "cell_type": "code",
   "execution_count": 87,
   "id": "f7a490e7",
   "metadata": {},
   "outputs": [
    {
     "name": "stdout",
     "output_type": "stream",
     "text": [
      "00000Virat\n"
     ]
    }
   ],
   "source": [
    "x = \"Virat\"\n",
    "\n",
    "y = x.zfill(10)\n",
    "\n",
    "print(y)"
   ]
  }
 ],
 "metadata": {
  "kernelspec": {
   "display_name": "Python 3 (ipykernel)",
   "language": "python",
   "name": "python3"
  },
  "language_info": {
   "codemirror_mode": {
    "name": "ipython",
    "version": 3
   },
   "file_extension": ".py",
   "mimetype": "text/x-python",
   "name": "python",
   "nbconvert_exporter": "python",
   "pygments_lexer": "ipython3",
   "version": "3.11.5"
  }
 },
 "nbformat": 4,
 "nbformat_minor": 5
}
